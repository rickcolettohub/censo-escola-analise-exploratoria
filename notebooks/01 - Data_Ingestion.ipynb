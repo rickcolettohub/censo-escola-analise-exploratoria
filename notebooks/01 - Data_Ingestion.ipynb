{
 "cells": [
  {
   "cell_type": "markdown",
   "id": "a127adfe",
   "metadata": {},
   "source": [
    "# Data Ingestion"
   ]
  },
  {
   "cell_type": "markdown",
   "id": "52ad3cf9",
   "metadata": {},
   "source": [
    "### Download from Kaggle"
   ]
  },
  {
   "cell_type": "markdown",
   "id": "e144881b",
   "metadata": {},
   "source": [
    "OBS: Para fazer o download do dataset é necessario ter a apikey salva na pasta: <br />\n",
    "```\n",
    "Linux/Mac: ~/.kaggle/kaggle.json\n",
    "Windows: C:\\Users\\user\\.kaggle\\kaggle.json\n",
    "```"
   ]
  },
  {
   "cell_type": "code",
   "execution_count": 1,
   "id": "c037fced",
   "metadata": {},
   "outputs": [
    {
     "name": "stdout",
     "output_type": "stream",
     "text": [
      "Dataset URL: https://www.kaggle.com/datasets/luizvaladao/inpe-censo-escolar-2007-2024\n",
      "Download Finished! Data saved on: ../data/raw\n"
     ]
    }
   ],
   "source": [
    "import os\n",
    "import pandas as pd\n",
    "from kaggle.api.kaggle_api_extended import KaggleApi\n",
    "\n",
    "# Api kaggle\n",
    "api = KaggleApi()\n",
    "api.authenticate()\n",
    "\n",
    "# Raw data Directory\n",
    "RAW_DATA_DIR = \"../data/raw\"\n",
    "os.makedirs(RAW_DATA_DIR, exist_ok=True)\n",
    "# data set path\n",
    "DATASET = \"luizvaladao/inpe-censo-escolar-2007-2024\" # Data \n",
    "\n",
    "# download and unzip data\n",
    "try:\n",
    "    api.dataset_download_files(DATASET, path=RAW_DATA_DIR, unzip=True)\n",
    "    print(f\"Download Finished! Data saved on: {RAW_DATA_DIR}\")\n",
    "except Exception as e:\n",
    "    print(f\"Donload Error: {e}\")"
   ]
  }
 ],
 "metadata": {
  "kernelspec": {
   "display_name": "Python 3",
   "language": "python",
   "name": "python3"
  },
  "language_info": {
   "codemirror_mode": {
    "name": "ipython",
    "version": 3
   },
   "file_extension": ".py",
   "mimetype": "text/x-python",
   "name": "python",
   "nbconvert_exporter": "python",
   "pygments_lexer": "ipython3",
   "version": "3.13.7"
  }
 },
 "nbformat": 4,
 "nbformat_minor": 5
}
